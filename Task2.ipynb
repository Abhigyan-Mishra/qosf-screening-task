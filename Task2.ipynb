{
 "cells": [
  {
   "cell_type": "markdown",
   "metadata": {},
   "source": [
    "<br/>**Task 2**<br/>\n",
    "**Problem Statement:**<br/>\n",
    "Implement a circuit that returns $\\lvert01\\rangle$ and $\\lvert10\\rangle$ with equal probability.\n",
    "\n",
    "**Requirements:**\n",
    "\n",
    "The circuit should consist only of CNOTs, RXs and RYs.\n",
    "Start from all parameters in parametric gates being equal to 0 or randomly chosen.\n",
    "You should find the right set of parameters using gradient descent (you might use more advanced optimization methods if you like).\n",
    "Simulations must be done with sampling - i.e. a limited number of measurements per iteration and noise.\n",
    "Compare the results for different numbers of measurements: 1, 10, 100, 1000.\n",
    "\n",
    "**Bonus question: How to make sure you produce state $\\lvert01\\rangle$ + $\\lvert10\\rangle$ and not $\\lvert01\\rangle$ - $\\lvert10\\rangle$?**"
   ]
  },
  {
   "cell_type": "markdown",
   "metadata": {},
   "source": [
    "**Software Used:** Qiskit(0.20.0)"
   ]
  },
  {
   "cell_type": "markdown",
   "metadata": {},
   "source": [
    "# Simple Bell Pair Generater"
   ]
  },
  {
   "cell_type": "code",
   "execution_count": 143,
   "metadata": {},
   "outputs": [],
   "source": [
    "import qiskit as q\n",
    "import numpy as np\n",
    "from qiskit.aqua.components.optimizers import COBYLA\n",
    "import matplotlib.pyplot as plt\n",
    "from qiskit import Aer\n",
    "from qiskit.visualization import plot_histogram\n",
    "import qiskit.providers.aer.noise as noise\n",
    "noise_model = noise.NoiseModel()\n"
   ]
  },
  {
   "cell_type": "markdown",
   "metadata": {},
   "source": [
    "## Sample Bell Pair Reference"
   ]
  },
  {
   "cell_type": "markdown",
   "metadata": {},
   "source": [
    "A reference circuit that creates the state $\\lvert\\psi\\rangle = \\frac{1}{\\sqrt{2}}\\lvert01\\rangle + \\frac{1}{\\sqrt{2}}\\lvert10\\rangle$ (upto a global phase) using only RX, RY, and CX gates. The intention behind this was just to get a feel of the RX and RY gates and do some visualization..."
   ]
  },
  {
   "cell_type": "markdown",
   "metadata": {},
   "source": [
    "### Creating the circuit with H and X and CNOT¶\n"
   ]
  },
  {
   "cell_type": "code",
   "execution_count": 141,
   "metadata": {},
   "outputs": [
    {
     "data": {
      "text/html": [
       "<pre style=\"word-wrap: normal;white-space: pre;background: #fff0;line-height: 1.1;font-family: &quot;Courier New&quot;,Courier,monospace\">     ┌───┐      ░ ┌─┐   \n",
       "q_0: ┤ H ├──■───░─┤M├───\n",
       "     ├───┤┌─┴─┐ ░ └╥┘┌─┐\n",
       "q_1: ┤ X ├┤ X ├─░──╫─┤M├\n",
       "     └───┘└───┘ ░  ║ └╥┘\n",
       "c_0: ══════════════╩══╬═\n",
       "                      ║ \n",
       "c_1: ═════════════════╩═\n",
       "                        </pre>"
      ],
      "text/plain": [
       "     ┌───┐      ░ ┌─┐   \n",
       "q_0: ┤ H ├──■───░─┤M├───\n",
       "     ├───┤┌─┴─┐ ░ └╥┘┌─┐\n",
       "q_1: ┤ X ├┤ X ├─░──╫─┤M├\n",
       "     └───┘└───┘ ░  ║ └╥┘\n",
       "c_0: ══════════════╩══╬═\n",
       "                      ║ \n",
       "c_1: ═════════════════╩═\n",
       "                        "
      ]
     },
     "execution_count": 141,
     "metadata": {},
     "output_type": "execute_result"
    }
   ],
   "source": [
    "    qc = q.QuantumCircuit(2)\n",
    "    qc.h(0)\n",
    "    qc.x(1)\n",
    "    qc.cx(0,1)\n",
    "    meas = q.QuantumCircuit(2, 2)\n",
    "    meas.barrier(range(2))\n",
    "    \n",
    "    # map the quantum measurement to the classical bits\n",
    "    meas.measure(range(2),range(2))\n",
    "    qc = qc + meas\n",
    "    qc.draw()\n",
    "    "
   ]
  },
  {
   "cell_type": "code",
   "execution_count": 142,
   "metadata": {},
   "outputs": [
    {
     "data": {
      "image/png": "[encoded data removed]",
      "text/plain": [
       "<Figure size 504x360 with 1 Axes>"
      ]
     },
     "execution_count": 142,
     "metadata": {},
     "output_type": "execute_result"
    }
   ],
   "source": [
    "backend = Aer.get_backend('qasm_simulator')\n",
    "results = q.execute(qc, backend, shots = 1000).result()\n",
    "counts = results.get_counts(qc)\n",
    "plot_histogram(counts)"
   ]
  },
  {
   "cell_type": "markdown",
   "metadata": {},
   "source": [
    "### Creating the circuit with RY , RX  and CNOT¶\n"
   ]
  },
  {
   "cell_type": "code",
   "execution_count": 3,
   "metadata": {},
   "outputs": [],
   "source": [
    "def bell_pair(param):\n",
    "    \"\"\"Takes input of parameters for Rx and Ry gates returns circuit to be optimized.\"\"\"\n",
    "    \n",
    "    theta_x_1 = param[0]\n",
    "    theta_y_1 = param[1]\n",
    "    theta_x_2 = param[2]\n",
    "    theta_y_2 = param[3]\n",
    "\n",
    "    qc = q.QuantumCircuit(2)\n",
    "    qc.ry(theta_y_2,1)\n",
    "    qc.rx(theta_x_2,1)\n",
    "    #Hadamard Gate for q0\n",
    "    qc.ry(theta_y_1, 0) \n",
    "    qc.rx(theta_x_1, 0)\n",
    "    #CX Gate\n",
    "    qc.cx(0, 1)\n",
    "    \n",
    "    meas = q.QuantumCircuit(2, 2)\n",
    "    meas.barrier(range(2))\n",
    "    \n",
    "    # map the quantum measurement to the classical bits\n",
    "    meas.measure(range(2),range(2))\n",
    "    \n",
    "    qc = qc + meas\n",
    "    \n",
    "    return qc"
   ]
  },
  {
   "cell_type": "code",
   "execution_count": 4,
   "metadata": {},
   "outputs": [],
   "source": [
    "ang_x_1 = np.pi \n",
    "ang_y_1 = np.pi /2\n",
    "ang_x_2= np.pi\n",
    "ang_y_2=0\n",
    "qc = bell_pair([ang_x_1, ang_y_1,ang_x_2,ang_y_2])"
   ]
  },
  {
   "cell_type": "code",
   "execution_count": 5,
   "metadata": {},
   "outputs": [
    {
     "data": {
      "text/html": [
       "<pre style=\"word-wrap: normal;white-space: pre;background: #fff0;line-height: 1.1;font-family: &quot;Courier New&quot;,Courier,monospace\">     ┌──────────┐┌────────┐      ░ ┌─┐   \n",
       "q_0: ┤ RY(pi/2) ├┤ RX(pi) ├──■───░─┤M├───\n",
       "     └┬───────┬─┘├────────┤┌─┴─┐ ░ └╥┘┌─┐\n",
       "q_1: ─┤ RY(0) ├──┤ RX(pi) ├┤ X ├─░──╫─┤M├\n",
       "      └───────┘  └────────┘└───┘ ░  ║ └╥┘\n",
       "c_0: ═══════════════════════════════╩══╬═\n",
       "                                       ║ \n",
       "c_1: ══════════════════════════════════╩═\n",
       "                                         </pre>"
      ],
      "text/plain": [
       "     ┌──────────┐┌────────┐      ░ ┌─┐   \n",
       "q_0: ┤ RY(pi/2) ├┤ RX(pi) ├──■───░─┤M├───\n",
       "     └┬───────┬─┘├────────┤┌─┴─┐ ░ └╥┘┌─┐\n",
       "q_1: ─┤ RY(0) ├──┤ RX(pi) ├┤ X ├─░──╫─┤M├\n",
       "      └───────┘  └────────┘└───┘ ░  ║ └╥┘\n",
       "c_0: ═══════════════════════════════╩══╬═\n",
       "                                       ║ \n",
       "c_1: ══════════════════════════════════╩═\n",
       "                                         "
      ]
     },
     "execution_count": 5,
     "metadata": {},
     "output_type": "execute_result"
    }
   ],
   "source": [
    "qc.draw()"
   ]
  },
  {
   "cell_type": "code",
   "execution_count": 6,
   "metadata": {},
   "outputs": [
    {
     "data": {
      "image/png": "[encoded data removed]",
      "text/plain": [
       "<Figure size 504x360 with 1 Axes>"
      ]
     },
     "execution_count": 6,
     "metadata": {},
     "output_type": "execute_result"
    }
   ],
   "source": [
    "backend = Aer.get_backend('qasm_simulator')\n",
    "results = q.execute(qc, backend, shots = 1000).result()\n",
    "counts = results.get_counts(qc)\n",
    "plot_histogram(counts)"
   ]
  },
  {
   "cell_type": "markdown",
   "metadata": {},
   "source": [
    "# Optimiser(Noiseless)"
   ]
  },
  {
   "cell_type": "code",
   "execution_count": 7,
   "metadata": {},
   "outputs": [],
   "source": [
    "def objective_function(params):\n",
    "    \"\"\"Calculates and returns the distance between the simulated distribution \n",
    "    and the target distribution. Note the global constants NUM_SHOTS and TARGET_DIST \n",
    "    need to be defined before calling this function.\"\"\"\n",
    "    \n",
    "    # builds the quantum circuit using the angles in params.\n",
    "    qc = bell_pair(params)\n",
    "    \n",
    "    # executes the circuit using the qasm simulator\n",
    "    backend = Aer.get_backend('qasm_simulator')\n",
    "    results = q.execute(qc, backend, shots = NUM_SHOTS).result()\n",
    "    counts = results.get_counts(qc)\n",
    "    \n",
    "    # Normalises the counts to create an output probability disitrbution \n",
    "    output_dist = {key: value / NUM_SHOTS for key, value in counts.items()}\n",
    "    \n",
    "    #computes the cost function and returns it\n",
    "    cost = 0\n",
    "    for key, value in output_dist.items():\n",
    "        cost += np.abs(value - TARGET_DIST[key])\n",
    "        \n",
    "    return cost"
   ]
  },
  {
   "cell_type": "code",
   "execution_count": 102,
   "metadata": {},
   "outputs": [],
   "source": [
    "def find_opt(target, shots):\n",
    "    #set up optimizer\n",
    "    optimizer = COBYLA(maxiter=15000, tol=1e-10)\n",
    "    # Create the initial parameters\n",
    "    params = np.random.rand(4)\n",
    "    NUM_SHOTS = shots\n",
    "    TARGET_DIST = target\n",
    "\n",
    "    return optimizer.optimize(num_vars=4, objective_function=objective_function, initial_point=params)"
   ]
  },
  {
   "cell_type": "code",
   "execution_count": 105,
   "metadata": {},
   "outputs": [
    {
     "name": "stdout",
     "output_type": "stream",
     "text": [
      "Target Distribution: {'00': 0.0, '11': 0.0, '01': 0.5, '10': 0.5}\n",
      "Obtained Distribution: {'10': 1.0}\n",
      "Output Error (Manhattan Distance): 0.5\n",
      "Output Objective Function: 1.0\n",
      "Parameters Found: [1.15464591 0.75970201 0.44664077 0.9008266 ]\n",
      "Target Distribution: {'00': 0.0, '11': 0.0, '01': 0.5, '10': 0.5}\n",
      "Obtained Distribution: {'01': 0.1, '10': 0.9}\n",
      "Output Error (Manhattan Distance): 0.19999999999999996\n",
      "Output Objective Function: 0.0\n",
      "Parameters Found: [ 1.38247649  0.28939475  3.08949262 -0.16892873]\n",
      "Target Distribution: {'00': 0.0, '11': 0.0, '01': 0.5, '10': 0.5}\n",
      "Obtained Distribution: {'01': 0.51, '11': 0.02, '00': 0.05, '10': 0.42}\n",
      "Output Error (Manhattan Distance): 0.46\n",
      "Output Objective Function: 0.16000000000000003\n",
      "Parameters Found: [ 2.05173315  1.65024542  3.19669247 -0.56057099]\n",
      "Target Distribution: {'00': 0.0, '11': 0.0, '01': 0.5, '10': 0.5}\n",
      "Obtained Distribution: {'01': 0.483, '11': 0.006, '00': 0.008, '10': 0.503}\n",
      "Output Error (Manhattan Distance): 0.05000000000000003\n",
      "Output Objective Function: 0.030000000000000013\n",
      "Parameters Found: [ 1.61270517 -1.71551903  3.0672021   0.22248339]\n"
     ]
    }
   ],
   "source": [
    "TARGET_DIST = {'00' : 0.0, '11' : 0.0, '01' : 0.5, '10' : 0.5}\n",
    "# We are looking for |01> and |11>\n",
    "ans_list = []\n",
    "for NUM_SHOTS in [1, 10, 100, 1000]:\n",
    "\n",
    "    opt_out = find_opt(TARGET_DIST, NUM_SHOTS)\n",
    "    backend = Aer.get_backend('qasm_simulator')\n",
    "\n",
    "    # Obtain the output distribution using the final parameters\n",
    "    output_qc = bell_pair(opt_out[0])\n",
    "    counts = q.execute(output_qc, backend, shots=NUM_SHOTS).result().get_counts(output_qc)\n",
    "    output_distr = {key: value / NUM_SHOTS for key, value in counts.items()}\n",
    "    ans_list.append(counts)\n",
    "\n",
    "    print(\"Target Distribution:\", TARGET_DIST)\n",
    "    print(\"Obtained Distribution:\", output_distr)\n",
    "    print(\"Output Error (Manhattan Distance):\", opt_out[1])\n",
    "    print(\"Output Objective Function:\", objective_function(opt_out[0]))\n",
    "    print(\"Parameters Found:\", opt_out[0])\n",
    "    plot_histogram(counts)"
   ]
  },
  {
   "cell_type": "markdown",
   "metadata": {},
   "source": [
    "## Plot of Optimisation(Noiseless)"
   ]
  },
  {
   "cell_type": "code",
   "execution_count": 106,
   "metadata": {},
   "outputs": [
    {
     "data": {
      "image/png": "[encoded data removed]",
      "text/plain": [
       "<Figure size 504x360 with 1 Axes>"
      ]
     },
     "execution_count": 106,
     "metadata": {},
     "output_type": "execute_result"
    }
   ],
   "source": [
    "plot_histogram(ans_list, legend =['1', '10', '100', '1000'])\n"
   ]
  },
  {
   "cell_type": "markdown",
   "metadata": {},
   "source": [
    "**Conclusion** : The accuracy of the parameters goes on improving as we increase the number of shots."
   ]
  },
  {
   "cell_type": "markdown",
   "metadata": {},
   "source": [
    "# Optimiser(Noisy)"
   ]
  },
  {
   "cell_type": "code",
   "execution_count": 107,
   "metadata": {},
   "outputs": [],
   "source": [
    "def objective_function_noisy(params):\n",
    "    \"\"\"Calculates and returns the distance between the simulated distribution \n",
    "    and the target distribution. Note the global constants NUM_SHOTS and TARGET_DIST \n",
    "    need to be defined before calling this function.\"\"\"\n",
    "    \n",
    "    # builds the quantum circuit using the angles in params.\n",
    "    qc = bell_pair(params)\n",
    "    \n",
    "    \n",
    "    #########################################\n",
    "    #noise added to the execute now\n",
    "    #########################################\n",
    "    # executes the circuit using the qasm simulator \n",
    "    backend = Aer.get_backend('qasm_simulator')\n",
    "    results = q.execute(qc, backend, shots = NUM_SHOTS, noise_model=noise_model).result()\n",
    "    counts = results.get_counts(qc)\n",
    "    \n",
    "    # Normalises the counts to create an output probability disitrbution \n",
    "    output_dist = {key: value / NUM_SHOTS for key, value in counts.items()}\n",
    "    \n",
    "    #computes the cost function and returns it\n",
    "    cost = 0\n",
    "    for key, value in output_dist.items():\n",
    "        cost += np.abs(value - TARGET_DIST[key])\n",
    "        \n",
    "    return cost"
   ]
  },
  {
   "cell_type": "code",
   "execution_count": 135,
   "metadata": {},
   "outputs": [],
   "source": [
    "def find_opt_noisy(target, shots):\n",
    "    \n",
    "    \n",
    "    #set up optimizer\n",
    "    optimizer = COBYLA(maxiter=5000, tol=1e-50)\n",
    "\n",
    "    # Create the initial parameters\n",
    "    params = np.random.rand(4)\n",
    "    NUM_SHOTS = shots\n",
    "    TARGET_DIST = target\n",
    "\n",
    "    return optimizer.optimize(num_vars=4, objective_function=objective_function_noisy, initial_point=params)"
   ]
  },
  {
   "cell_type": "code",
   "execution_count": 136,
   "metadata": {},
   "outputs": [
    {
     "name": "stdout",
     "output_type": "stream",
     "text": [
      "Target Distribution: {'00': 0, '11': 0, '01': 0.5, '10': 0.5}\n",
      "Obtained Distribution: {'10': 1.0}\n",
      "Output Error (Manhattan Distance): 0.5\n",
      "Output Objective Function: 1.0\n",
      "Parameters Found: [0.39194615 0.65756684 0.9851675  1.84245178]\n",
      "Target Distribution: {'00': 0, '11': 0, '01': 0.5, '10': 0.5}\n",
      "Obtained Distribution: {'01': 0.6, '00': 0.1, '10': 0.3}\n",
      "Output Error (Manhattan Distance): 0.6000000000000001\n",
      "Output Objective Function: 0.6000000000000001\n",
      "Parameters Found: [ 1.52736668 -0.52391418 -0.15796739  2.19822629]\n",
      "Target Distribution: {'00': 0, '11': 0, '01': 0.5, '10': 0.5}\n",
      "Obtained Distribution: {'01': 0.27, '11': 0.13, '00': 0.12, '10': 0.48}\n",
      "Output Error (Manhattan Distance): 0.62\n",
      "Output Objective Function: 0.45999999999999996\n",
      "Parameters Found: [1.41797191 0.60880623 0.75992732 2.45451723]\n",
      "Target Distribution: {'00': 0, '11': 0, '01': 0.5, '10': 0.5}\n",
      "Obtained Distribution: {'01': 0.498, '11': 0.022, '00': 0.024, '10': 0.456}\n",
      "Output Error (Manhattan Distance): 0.126\n",
      "Output Objective Function: 0.12\n",
      "Parameters Found: [1.51680838 3.35763126 3.32238177 0.42169423]\n"
     ]
    }
   ],
   "source": [
    "TARGET_DIST = {'00' : 0, '11' : 0, '01' : 0.5, '10' : 0.5}\n",
    "err=[]\n",
    "ans_list = []\n",
    "parameter_list = []\n",
    "for NUM_SHOTS in [1, 10, 100, 1000]:\n",
    "\n",
    "    opt_out = find_opt_noisy(TARGET_DIST, NUM_SHOTS)\n",
    "    parameter_list.append(opt_out[0])\n",
    "\n",
    "    # Obtain the output distribution using the final parameters\n",
    "    output_qc = bell_pair(opt_out[0])\n",
    "    counts = q.execute(output_qc, backend, shots=NUM_SHOTS, noise_model = noise_model).result().get_counts(output_qc)\n",
    "    output_distr = {key: value / NUM_SHOTS for key, value in counts.items()}\n",
    "    ans_list.append(counts)\n",
    "\n",
    "    print(\"Target Distribution:\", TARGET_DIST)\n",
    "    print(\"Obtained Distribution:\", output_distr)\n",
    "    print(\"Output Error (Manhattan Distance):\", opt_out[1])\n",
    "    print(\"Output Objective Function:\", objective_function_noisy(opt_out[0]))\n",
    "    print(\"Parameters Found:\", opt_out[0])\n",
    "    err.append({NUM_SHOTS:opt_out[1]})"
   ]
  },
  {
   "cell_type": "markdown",
   "metadata": {},
   "source": [
    "## Plot of Optimisation(Noisy)"
   ]
  },
  {
   "cell_type": "code",
   "execution_count": 137,
   "metadata": {},
   "outputs": [
    {
     "data": {
      "image/png": "[encoded data removed]",
      "text/plain": [
       "<Figure size 504x360 with 1 Axes>"
      ]
     },
     "execution_count": 137,
     "metadata": {},
     "output_type": "execute_result"
    }
   ],
   "source": [
    "plot_histogram(ans_list, legend =['1', '10', '100', '1000'])\n"
   ]
  },
  {
   "cell_type": "markdown",
   "metadata": {},
   "source": [
    "# Bonus Section\n"
   ]
  },
  {
   "cell_type": "code",
   "execution_count": null,
   "metadata": {},
   "outputs": [],
   "source": []
  },
  {
   "cell_type": "markdown",
   "metadata": {},
   "source": [
    "How do we prepare **$|01\\rangle + |10\\rangle$** and **not** **$|01\\rangle - |10\\rangle$**?\n",
    "\n",
    "**Solution**\n",
    "First we define the same circuit but add another X gate and entanglement circuit , such that on measurement, the value of,<br/>\n",
    "<t/>$|01\\rangle + |10\\rangle$ is **0**<br/>\n",
    "$|01\\rangle - |10\\rangle$ is **1** , as shown below,"
   ]
  },
  {
   "cell_type": "code",
   "execution_count": 155,
   "metadata": {},
   "outputs": [],
   "source": [
    "def bell_pair(param):\n",
    "    \"\"\"Takes input of parameters for Rx and Ry gates returns circuit to be optimized.\"\"\"\n",
    "    \n",
    "    theta_x_1 = param[0]\n",
    "    theta_y_1 = param[1]\n",
    "    theta_x_2 = param[2]\n",
    "    theta_y_2 = param[3]\n",
    "\n",
    "    qc = q.QuantumCircuit(2)\n",
    "    qc.ry(theta_y_2,1)\n",
    "    qc.rx(theta_x_2,1)\n",
    "    #Hadamard Gate for q0\n",
    "    qc.ry(theta_y_1, 0) \n",
    "    qc.rx(theta_x_1, 0)\n",
    "    #CX Gate\n",
    "    qc.cx(0, 1)\n",
    "    #Testing Comppunents\n",
    "    qc.x(0)\n",
    "    qc.cx(0,1)\n",
    "    qc.h(0)\n",
    "    meas = q.QuantumCircuit(2, 1)\n",
    "    meas.barrier(range(2))\n",
    "    \n",
    "    # map the quantum measurement to the classical bits\n",
    "    meas.measure(0,0)\n",
    "    \n",
    "    qc = qc + meas\n",
    "    \n",
    "    return qc"
   ]
  },
  {
   "cell_type": "code",
   "execution_count": 156,
   "metadata": {},
   "outputs": [
    {
     "data": {
      "text/html": [
       "<pre style=\"word-wrap: normal;white-space: pre;background: #fff0;line-height: 1.1;font-family: &quot;Courier New&quot;,Courier,monospace\">     ┌──────────┐┌────────┐     ┌───┐     ┌───┐ ░ ┌─┐\n",
       "q_0: ┤ RY(pi/2) ├┤ RX(pi) ├──■──┤ X ├──■──┤ H ├─░─┤M├\n",
       "     └┬───────┬─┘├────────┤┌─┴─┐└───┘┌─┴─┐└───┘ ░ └╥┘\n",
       "q_1: ─┤ RY(0) ├──┤ RX(pi) ├┤ X ├─────┤ X ├──────░──╫─\n",
       "      └───────┘  └────────┘└───┘     └───┘      ░  ║ \n",
       "c_0: ══════════════════════════════════════════════╩═\n",
       "                                                     </pre>"
      ],
      "text/plain": [
       "     ┌──────────┐┌────────┐     ┌───┐     ┌───┐ ░ ┌─┐\n",
       "q_0: ┤ RY(pi/2) ├┤ RX(pi) ├──■──┤ X ├──■──┤ H ├─░─┤M├\n",
       "     └┬───────┬─┘├────────┤┌─┴─┐└───┘┌─┴─┐└───┘ ░ └╥┘\n",
       "q_1: ─┤ RY(0) ├──┤ RX(pi) ├┤ X ├─────┤ X ├──────░──╫─\n",
       "      └───────┘  └────────┘└───┘     └───┘      ░  ║ \n",
       "c_0: ══════════════════════════════════════════════╩═\n",
       "                                                     "
      ]
     },
     "execution_count": 156,
     "metadata": {},
     "output_type": "execute_result"
    }
   ],
   "source": [
    "ang_x_1 = np.pi \n",
    "ang_y_1 = np.pi /2\n",
    "ang_x_2= np.pi\n",
    "ang_y_2=0\n",
    "qc = bell_pair([ang_x_1, ang_y_1,ang_x_2,ang_y_2])\n",
    "qc.draw()"
   ]
  },
  {
   "cell_type": "code",
   "execution_count": 157,
   "metadata": {},
   "outputs": [
    {
     "data": {
      "image/png": "[encoded data removed]",
      "text/plain": [
       "<Figure size 504x360 with 1 Axes>"
      ]
     },
     "execution_count": 157,
     "metadata": {},
     "output_type": "execute_result"
    }
   ],
   "source": [
    "backend = Aer.get_backend('qasm_simulator')\n",
    "results = q.execute(qc, backend, shots = 1000).result()\n",
    "counts = results.get_counts(qc)\n",
    "plot_histogram(counts)"
   ]
  },
  {
   "cell_type": "markdown",
   "metadata": {},
   "source": [
    "**The given circuit produces $|01\\rangle + |10\\rangle$**"
   ]
  },
  {
   "cell_type": "code",
   "execution_count": 162,
   "metadata": {},
   "outputs": [
    {
     "data": {
      "text/html": [
       "<pre style=\"word-wrap: normal;white-space: pre;background: #fff0;line-height: 1.1;font-family: &quot;Courier New&quot;,Courier,monospace\">     ┌───────────┐┌────────┐     ┌───┐     ┌───┐ ░ ┌─┐\n",
       "q_0: ┤ RY(-pi/2) ├┤ RX(pi) ├──■──┤ X ├──■──┤ H ├─░─┤M├\n",
       "     └─┬───────┬─┘├────────┤┌─┴─┐└───┘┌─┴─┐└───┘ ░ └╥┘\n",
       "q_1: ──┤ RY(0) ├──┤ RX(pi) ├┤ X ├─────┤ X ├──────░──╫─\n",
       "       └───────┘  └────────┘└───┘     └───┘      ░  ║ \n",
       "c_0: ═══════════════════════════════════════════════╩═\n",
       "                                                      </pre>"
      ],
      "text/plain": [
       "     ┌───────────┐┌────────┐     ┌───┐     ┌───┐ ░ ┌─┐\n",
       "q_0: ┤ RY(-pi/2) ├┤ RX(pi) ├──■──┤ X ├──■──┤ H ├─░─┤M├\n",
       "     └─┬───────┬─┘├────────┤┌─┴─┐└───┘┌─┴─┐└───┘ ░ └╥┘\n",
       "q_1: ──┤ RY(0) ├──┤ RX(pi) ├┤ X ├─────┤ X ├──────░──╫─\n",
       "       └───────┘  └────────┘└───┘     └───┘      ░  ║ \n",
       "c_0: ═══════════════════════════════════════════════╩═\n",
       "                                                      "
      ]
     },
     "execution_count": 162,
     "metadata": {},
     "output_type": "execute_result"
    }
   ],
   "source": [
    "ang_x_1 = np.pi \n",
    "ang_y_1 = -np.pi /2\n",
    "ang_x_2= np.pi\n",
    "ang_y_2=0\n",
    "qc = bell_pair([ang_x_1, ang_y_1,ang_x_2,ang_y_2])\n",
    "qc.draw()"
   ]
  },
  {
   "cell_type": "code",
   "execution_count": 163,
   "metadata": {},
   "outputs": [
    {
     "data": {
      "image/png": "[encoded data removed]",
      "text/plain": [
       "<Figure size 504x360 with 1 Axes>"
      ]
     },
     "execution_count": 163,
     "metadata": {},
     "output_type": "execute_result"
    }
   ],
   "source": [
    "backend = Aer.get_backend('qasm_simulator')\n",
    "results = q.execute(qc, backend, shots = 1000).result()\n",
    "counts = results.get_counts(qc)\n",
    "plot_histogram(counts)"
   ]
  },
  {
   "cell_type": "markdown",
   "metadata": {},
   "source": [
    "**The given circuit produces $|01\\rangle - |10\\rangle$**"
   ]
  },
  {
   "cell_type": "markdown",
   "metadata": {},
   "source": [
    "## Optimisation(Noiseless)"
   ]
  },
  {
   "cell_type": "code",
   "execution_count": 173,
   "metadata": {},
   "outputs": [],
   "source": [
    "def objective_function(params):\n",
    "    \"\"\"Calculates and returns the distance between the simulated distribution \n",
    "    and the target distribution. Note the global constants NUM_SHOTS and TARGET_DIST \n",
    "    need to be defined before calling this function.\"\"\"\n",
    "    \n",
    "    # builds the quantum circuit using the angles in params.\n",
    "    qc = bell_pair(params)\n",
    "    \n",
    "    # executes the circuit using the qasm simulator\n",
    "    backend = Aer.get_backend('qasm_simulator')\n",
    "    results = q.execute(qc, backend, shots = NUM_SHOTS).result()\n",
    "    counts = results.get_counts(qc)\n",
    "    \n",
    "    # Normalises the counts to create an output probability disitrbution \n",
    "    output_dist = {key: value / NUM_SHOTS for key, value in counts.items()}\n",
    "    \n",
    "    #computes the cost function and returns it\n",
    "    cost = 0\n",
    "    for key, value in output_dist.items():\n",
    "        cost += np.abs(value - TARGET_DIST[key])\n",
    "        \n",
    "    return cost"
   ]
  },
  {
   "cell_type": "code",
   "execution_count": 174,
   "metadata": {},
   "outputs": [],
   "source": [
    "def find_opt(target, shots):\n",
    "    #set up optimizer\n",
    "    optimizer = COBYLA(maxiter=15000, tol=1e-10)\n",
    "    # Create the initial parameters\n",
    "    params = np.random.rand(4)\n",
    "    NUM_SHOTS = shots\n",
    "    TARGET_DIST = target\n",
    "\n",
    "    return optimizer.optimize(num_vars=4, objective_function=objective_function, initial_point=params)"
   ]
  },
  {
   "cell_type": "code",
   "execution_count": 175,
   "metadata": {},
   "outputs": [
    {
     "name": "stdout",
     "output_type": "stream",
     "text": [
      "Target Distribution: {'0': 1.0, '1': 0.0}\n",
      "Obtained Distribution: {'0': 1.0}\n",
      "Output Error (Manhattan Distance): 0.0\n",
      "Output Objective Function: 0.0\n",
      "Parameters Found: [0.0906803  0.78335098 0.09722987 0.96708074]\n",
      "Target Distribution: {'0': 1.0, '1': 0.0}\n",
      "Obtained Distribution: {'1': 0.1, '0': 0.9}\n",
      "Output Error (Manhattan Distance): 0.39999999999999997\n",
      "Output Objective Function: 0.0\n",
      "Parameters Found: [1.81707852 0.99306302 0.27126895 0.9783844 ]\n",
      "Target Distribution: {'0': 1.0, '1': 0.0}\n",
      "Obtained Distribution: {'1': 0.02, '0': 0.98}\n",
      "Output Error (Manhattan Distance): 0.02000000000000001\n",
      "Output Objective Function: 0.04000000000000002\n",
      "Parameters Found: [1.42228967 1.80835849 0.73531948 1.29023931]\n",
      "Target Distribution: {'0': 1.0, '1': 0.0}\n",
      "Obtained Distribution: {'0': 1.0}\n",
      "Output Error (Manhattan Distance): 0.0\n",
      "Output Objective Function: 0.002000000000000001\n",
      "Parameters Found: [1.24804112 1.60045548 1.5730014  0.52340848]\n"
     ]
    }
   ],
   "source": [
    "TARGET_DIST = {'0' : 1.0, '1' : 0.0}\n",
    "# We are looking for |01> and |11>\n",
    "ans_list = []\n",
    "for NUM_SHOTS in [1, 10, 100, 1000]:\n",
    "\n",
    "    opt_out = find_opt(TARGET_DIST, NUM_SHOTS)\n",
    "    backend = Aer.get_backend('qasm_simulator')\n",
    "\n",
    "    # Obtain the output distribution using the final parameters\n",
    "    output_qc = bell_pair(opt_out[0])\n",
    "    counts = q.execute(output_qc, backend, shots=NUM_SHOTS).result().get_counts(output_qc)\n",
    "    output_distr = {key: value / NUM_SHOTS for key, value in counts.items()}\n",
    "    ans_list.append(counts)\n",
    "\n",
    "    print(\"Target Distribution:\", TARGET_DIST)\n",
    "    print(\"Obtained Distribution:\", output_distr)\n",
    "    print(\"Output Error (Manhattan Distance):\", opt_out[1])\n",
    "    print(\"Output Objective Function:\", objective_function(opt_out[0]))\n",
    "    print(\"Parameters Found:\", opt_out[0])\n",
    "    plot_histogram(counts)"
   ]
  },
  {
   "cell_type": "markdown",
   "metadata": {},
   "source": [
    "### Plot for Optmisation"
   ]
  },
  {
   "cell_type": "code",
   "execution_count": 176,
   "metadata": {},
   "outputs": [
    {
     "data": {
      "image/png": "[encoded data removed]",
      "text/plain": [
       "<Figure size 504x360 with 1 Axes>"
      ]
     },
     "execution_count": 176,
     "metadata": {},
     "output_type": "execute_result"
    }
   ],
   "source": [
    "plot_histogram(ans_list, legend =['1', '10', '100', '1000'])\n"
   ]
  },
  {
   "cell_type": "markdown",
   "metadata": {},
   "source": [
    "**In conclusion the optimisation does work fine and most of output is of form $|01\\rangle + |10\\rangle$**"
   ]
  },
  {
   "cell_type": "markdown",
   "metadata": {},
   "source": [
    "TODO\n",
    "- Plot graphs - cost vs iteration(With / Without Noise)\n",
    "- Experiment with pennylane optimisation library.\n",
    "- Add a more mathematical overview of how it works."
   ]
  },
  {
   "cell_type": "markdown",
   "metadata": {},
   "source": [
    "# Refrences\n",
    "- [Qiskit COBYLA](https://qiskit.org/documentation/stubs/qiskit.aqua.components.optimizers.COBYLA.html)\n",
    "- [Quantum Circuit Parameters Learning with Gradient Descent](https://arxiv.org/pdf/1910.14266.pdf)"
   ]
  },
  {
   "cell_type": "code",
   "execution_count": null,
   "metadata": {},
   "outputs": [],
   "source": []
  }
 ],
 "metadata": {
  "kernelspec": {
   "display_name": "Python 3",
   "language": "python",
   "name": "python3"
  },
  "language_info": {
   "codemirror_mode": {
    "name": "ipython",
    "version": 3
   },
   "file_extension": ".py",
   "mimetype": "text/x-python",
   "name": "python",
   "nbconvert_exporter": "python",
   "pygments_lexer": "ipython3",
   "version": "3.8.2"
  },
  "latex_envs": {
   "LaTeX_envs_menu_present": true,
   "autoclose": false,
   "autocomplete": true,
   "bibliofile": "biblio.bib",
   "cite_by": "apalike",
   "current_citInitial": 1,
   "eqLabelWithNumbers": true,
   "eqNumInitial": 1,
   "hotkeys": {
    "equation": "Ctrl-E",
    "itemize": "Ctrl-I"
   },
   "labels_anchors": false,
   "latex_user_defs": false,
   "report_style_numbering": false,
   "user_envs_cfg": false
  },
  "toc": {
   "base_numbering": 1,
   "nav_menu": {},
   "number_sections": true,
   "sideBar": true,
   "skip_h1_title": false,
   "title_cell": "Table of Contents",
   "title_sidebar": "Contents",
   "toc_cell": false,
   "toc_position": {},
   "toc_section_display": true,
   "toc_window_display": false
  }
 },
 "nbformat": 4,
 "nbformat_minor": 4
}
